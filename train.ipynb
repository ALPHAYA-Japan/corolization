{
 "cells": [
  {
   "cell_type": "code",
   "execution_count": 48,
   "metadata": {
    "collapsed": true
   },
   "outputs": [],
   "source": [
    "import torch\n",
    "import torch.nn as nn\n",
    "import torchvision.datasets as dsets\n",
    "import torchvision.transforms as transforms\n",
    "from torch.autograd import Variable\n",
    "from corolization import ResidualEncoder\n",
    "import torch.nn.functional as F\n",
    "import numpy as np\n",
    "from skimage.color import rgb2yuv, yuv2rgb\n",
    "import matplotlib.pyplot as plt\n",
    "import os.path"
   ]
  },
  {
   "cell_type": "code",
   "execution_count": 42,
   "metadata": {
    "scrolled": true
   },
   "outputs": [
    {
     "name": "stdout",
     "output_type": "stream",
     "text": [
      "Files already downloaded and verified\n"
     ]
    }
   ],
   "source": [
    "train_dset = dsets.CIFAR10(root='./data/',\n",
    "                               train=True, \n",
    "#                                transform=transforms.ToTensor(),\n",
    "                               download=True)\n",
    "\n",
    "# plt.imshow(yuv2rgb(rgb2yuv(np.array(train_dataset[0][0]))))\n",
    "# plt.show()\n",
    "\n",
    "test_dset = dsets.CIFAR10(root='./data/',\n",
    "#                               transform=transforms.ToTensor(),\n",
    "                              train=False)"
   ]
  },
  {
   "cell_type": "code",
   "execution_count": 43,
   "metadata": {
    "collapsed": true
   },
   "outputs": [],
   "source": [
    "def massage_dset(dset):\n",
    "    rtv = []\n",
    "    for i, (image, _) in enumerate(dset):\n",
    "        img = rgb2yuv(image)\n",
    "        rtv.append((np.array(img[:, :, 0:1]).transpose(2, 0, 1), np.array(img[:, :, 1:]).transpose(2, 0, 1)))\n",
    "    \n",
    "    return rtv\n",
    "\n",
    "train_dataset = massage_dset(train_dset)\n",
    "test_dataset = massage_dset(test_dset)"
   ]
  },
  {
   "cell_type": "code",
   "execution_count": 45,
   "metadata": {},
   "outputs": [],
   "source": [
    "train_loader = torch.utils.data.DataLoader(dataset=train_dataset,\n",
    "                                           batch_size=100, \n",
    "                                           shuffle=True)\n",
    "\n",
    "test_loader = torch.utils.data.DataLoader(dataset=test_dataset,\n",
    "                                          batch_size=100, \n",
    "                                          shuffle=False)"
   ]
  },
  {
   "cell_type": "code",
   "execution_count": 49,
   "metadata": {},
   "outputs": [],
   "source": [
    "encoder = ResidualEncoder(32)\n",
    "if os.path.isfile('residual_encoder.pkl'):\n",
    "    encoder.load_state_dict(torch.load('residual_encoder.pkl'))"
   ]
  },
  {
   "cell_type": "code",
   "execution_count": 50,
   "metadata": {
    "collapsed": true
   },
   "outputs": [],
   "source": [
    "criterion = nn.MSELoss()\n",
    "learning_rate = 0.001\n",
    "optimizer = torch.optim.SGD(encoder.parameters(), lr=learning_rate)"
   ]
  },
  {
   "cell_type": "code",
   "execution_count": null,
   "metadata": {},
   "outputs": [],
   "source": [
    "for epoch in range(1):\n",
    "    for i, (images, labels) in enumerate(train_loader):\n",
    "        images = Variable(torch.stack(images))\n",
    "#         images = Variable(images)\n",
    "        labels = Variable(labels)\n",
    "        \n",
    "        # Forward + Backward + Optimize\n",
    "        optimizer.zero_grad()\n",
    "        outputs = encoder.double()(images)\n",
    "#         outputs = encoder(images)\n",
    "        loss = criterion(outputs, labels)\n",
    "        loss.backward()\n",
    "        optimizer.step()\n",
    "        \n",
    "        if (i+1) % 100 == 0:\n",
    "            torch.save(encoder.state_dict(), 'residual_encoder.pkl')\n",
    "            print ('Epoch [%d/%d], Iter [%d/%d] Loss: %.4f' \n",
    "                   %(epoch+1, num_epochs, i+1, len(train_dataset)//batch_size, loss.data[0]))"
   ]
  },
  {
   "cell_type": "code",
   "execution_count": 52,
   "metadata": {},
   "outputs": [
    {
     "name": "stderr",
     "output_type": "stream",
     "text": [
      "Clipping input data to the valid range for imshow with RGB data ([0..1] for floats or [0..255] for integers).\n"
     ]
    },
    {
     "data": {
      "image/png": "[encoded data removed]",
      "text/plain": [
       "<Figure size 432x288 with 3 Axes>"
      ]
     },
     "metadata": {},
     "output_type": "display_data"
    }
   ],
   "source": [
    "encoder.eval()\n",
    "image, label = test_dataset[5]\n",
    "image = Variable(torch.FloatTensor([image]))\n",
    "output = encoder(image)\n",
    "\n",
    "y_layer = image.data[0].numpy()\n",
    "uv_pred = output.data[0].numpy()\n",
    "uv_label = label\n",
    "\n",
    "img_input = y_layer\n",
    "img_pred = np.concatenate((y_layer, uv_pred), axis=0)\n",
    "img_actual = np.concatenate((y_layer, uv_label), axis=0)\n",
    "\n",
    "f, axarr = plt.subplots(1,3)\n",
    "# axarr[0].imshow(yuv2rgb(img_input.reshape(32,32)), cmap='gray')\n",
    "axarr[0].imshow(test_dset[5][0])\n",
    "axarr[1].imshow(yuv2rgb(img_pred.transpose(1, 2, 0)))\n",
    "axarr[2].imshow(yuv2rgb(img_actual.transpose(1, 2, 0)))\n",
    "plt.show()"
   ]
  }
 ],
 "metadata": {
  "kernelspec": {
   "display_name": "torch",
   "language": "python",
   "name": "torch"
  },
  "language_info": {
   "codemirror_mode": {
    "name": "ipython",
    "version": 3
   },
   "file_extension": ".py",
   "mimetype": "text/x-python",
   "name": "python",
   "nbconvert_exporter": "python",
   "pygments_lexer": "ipython3",
   "version": "3.6.1"
  }
 },
 "nbformat": 4,
 "nbformat_minor": 2
}
